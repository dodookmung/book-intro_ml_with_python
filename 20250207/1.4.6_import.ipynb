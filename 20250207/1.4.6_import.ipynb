{
 "cells": [
  {
   "cell_type": "code",
   "execution_count": 1,
   "metadata": {},
   "outputs": [],
   "source": [
    "import numpy as np\n",
    "import matplotlib.pyplot as plt\n",
    "import pandas as pd\n",
    "import mglearn"
   ]
  },
  {
   "cell_type": "code",
   "execution_count": 2,
   "metadata": {},
   "outputs": [
    {
     "name": "stdout",
     "output_type": "stream",
     "text": [
      "Python 버전: 3.9.6 (default, Feb  3 2024, 15:58:27) \n",
      "[Clang 15.0.0 (clang-1500.3.9.4)]\n",
      "pandas 버전: 2.2.2\n",
      "matplotlib 버전: 3.9.2\n",
      "NumPy 버전: 1.26.4\n",
      "SciPy 버전: 1.13.1\n",
      "IPython 버전: 8.18.1\n",
      "scikit-learn 버전 1.5.2\n"
     ]
    }
   ],
   "source": [
    "import sys\n",
    "print(\"Python 버전:\", sys.version)\n",
    "\n",
    "import pandas as pd\n",
    "print(\"pandas 버전:\", pd.__version__)\n",
    "\n",
    "import matplotlib\n",
    "print(\"matplotlib 버전:\", matplotlib.__version__)\n",
    "\n",
    "import numpy as np\n",
    "print(\"NumPy 버전:\", np.__version__)\n",
    "\n",
    "import scipy as sp\n",
    "print(\"SciPy 버전:\", sp.__version__)\n",
    "\n",
    "import IPython\n",
    "print(\"IPython 버전:\", IPython.__version__)\n",
    "\n",
    "import sklearn\n",
    "print(\"scikit-learn 버전\", sklearn.__version__)"
   ]
  },
  {
   "cell_type": "code",
   "execution_count": null,
   "metadata": {},
   "outputs": [],
   "source": []
  }
 ],
 "metadata": {
  "kernelspec": {
   "display_name": "Python 3",
   "language": "python",
   "name": "python3"
  },
  "language_info": {
   "codemirror_mode": {
    "name": "ipython",
    "version": 3
   },
   "file_extension": ".py",
   "mimetype": "text/x-python",
   "name": "python",
   "nbconvert_exporter": "python",
   "pygments_lexer": "ipython3",
   "version": "3.9.6"
  }
 },
 "nbformat": 4,
 "nbformat_minor": 2
}
